{
  "nbformat": 4,
  "nbformat_minor": 0,
  "metadata": {
    "colab": {
      "provenance": []
    },
    "kernelspec": {
      "name": "python3",
      "display_name": "Python 3"
    },
    "language_info": {
      "name": "python"
    }
  },
  "cells": [
    {
      "cell_type": "markdown",
      "source": [
        "**DOWNLOADING PACKAGES**"
      ],
      "metadata": {
        "id": "DFYMn_sPO73J"
      }
    },
    {
      "cell_type": "code",
      "execution_count": null,
      "metadata": {
        "colab": {
          "base_uri": "https://localhost:8080/"
        },
        "id": "RHE4pVlu-Fgq",
        "outputId": "fa7ba88d-2f2d-44cb-b3ca-20cc04bf23e0"
      },
      "outputs": [
        {
          "output_type": "stream",
          "name": "stdout",
          "text": [
            "Collecting pinecone-client\n",
            "  Downloading pinecone_client-2.2.2-py3-none-any.whl (179 kB)\n",
            "\u001b[2K     \u001b[90m━━━━━━━━━━━━━━━━━━━━━━━━━━━━━━━━━━━━━━━\u001b[0m \u001b[32m179.1/179.1 kB\u001b[0m \u001b[31m3.4 MB/s\u001b[0m eta \u001b[36m0:00:00\u001b[0m\n",
            "\u001b[?25hCollecting langchain\n",
            "  Downloading langchain-0.0.240-py3-none-any.whl (1.4 MB)\n",
            "\u001b[2K     \u001b[90m━━━━━━━━━━━━━━━━━━━━━━━━━━━━━━━━━━━━━━━━\u001b[0m \u001b[32m1.4/1.4 MB\u001b[0m \u001b[31m9.9 MB/s\u001b[0m eta \u001b[36m0:00:00\u001b[0m\n",
            "\u001b[?25hCollecting openai\n",
            "  Downloading openai-0.27.8-py3-none-any.whl (73 kB)\n",
            "\u001b[2K     \u001b[90m━━━━━━━━━━━━━━━━━━━━━━━━━━━━━━━━━━━━━━━━\u001b[0m \u001b[32m73.6/73.6 kB\u001b[0m \u001b[31m8.6 MB/s\u001b[0m eta \u001b[36m0:00:00\u001b[0m\n",
            "\u001b[?25hCollecting wikipedia\n",
            "  Downloading wikipedia-1.4.0.tar.gz (27 kB)\n",
            "  Preparing metadata (setup.py) ... \u001b[?25l\u001b[?25hdone\n",
            "Requirement already satisfied: google-api-python-client in /usr/local/lib/python3.10/dist-packages (2.84.0)\n",
            "Collecting unstructured\n",
            "  Downloading unstructured-0.8.1-py3-none-any.whl (1.4 MB)\n",
            "\u001b[2K     \u001b[90m━━━━━━━━━━━━━━━━━━━━━━━━━━━━━━━━━━━━━━━━\u001b[0m \u001b[32m1.4/1.4 MB\u001b[0m \u001b[31m28.6 MB/s\u001b[0m eta \u001b[36m0:00:00\u001b[0m\n",
            "\u001b[?25hRequirement already satisfied: tabulate in /usr/local/lib/python3.10/dist-packages (0.9.0)\n",
            "Collecting pdf2image\n",
            "  Downloading pdf2image-1.16.3-py3-none-any.whl (11 kB)\n",
            "Requirement already satisfied: requests>=2.19.0 in /usr/local/lib/python3.10/dist-packages (from pinecone-client) (2.27.1)\n",
            "Requirement already satisfied: pyyaml>=5.4 in /usr/local/lib/python3.10/dist-packages (from pinecone-client) (6.0.1)\n",
            "Collecting loguru>=0.5.0 (from pinecone-client)\n",
            "  Downloading loguru-0.7.0-py3-none-any.whl (59 kB)\n",
            "\u001b[2K     \u001b[90m━━━━━━━━━━━━━━━━━━━━━━━━━━━━━━━━━━━━━━━━\u001b[0m \u001b[32m60.0/60.0 kB\u001b[0m \u001b[31m8.2 MB/s\u001b[0m eta \u001b[36m0:00:00\u001b[0m\n",
            "\u001b[?25hRequirement already satisfied: typing-extensions>=3.7.4 in /usr/local/lib/python3.10/dist-packages (from pinecone-client) (4.7.1)\n",
            "Collecting dnspython>=2.0.0 (from pinecone-client)\n",
            "  Downloading dnspython-2.4.0-py3-none-any.whl (300 kB)\n",
            "\u001b[2K     \u001b[90m━━━━━━━━━━━━━━━━━━━━━━━━━━━━━━━━━━━━━━\u001b[0m \u001b[32m300.0/300.0 kB\u001b[0m \u001b[31m28.3 MB/s\u001b[0m eta \u001b[36m0:00:00\u001b[0m\n",
            "\u001b[?25hRequirement already satisfied: python-dateutil>=2.5.3 in /usr/local/lib/python3.10/dist-packages (from pinecone-client) (2.8.2)\n",
            "Requirement already satisfied: urllib3>=1.21.1 in /usr/local/lib/python3.10/dist-packages (from pinecone-client) (1.26.16)\n",
            "Requirement already satisfied: tqdm>=4.64.1 in /usr/local/lib/python3.10/dist-packages (from pinecone-client) (4.65.0)\n",
            "Requirement already satisfied: numpy>=1.22.0 in /usr/local/lib/python3.10/dist-packages (from pinecone-client) (1.22.4)\n",
            "Requirement already satisfied: SQLAlchemy<3,>=1.4 in /usr/local/lib/python3.10/dist-packages (from langchain) (2.0.19)\n",
            "Requirement already satisfied: aiohttp<4.0.0,>=3.8.3 in /usr/local/lib/python3.10/dist-packages (from langchain) (3.8.4)\n",
            "Requirement already satisfied: async-timeout<5.0.0,>=4.0.0 in /usr/local/lib/python3.10/dist-packages (from langchain) (4.0.2)\n",
            "Collecting dataclasses-json<0.6.0,>=0.5.7 (from langchain)\n",
            "  Downloading dataclasses_json-0.5.13-py3-none-any.whl (26 kB)\n",
            "Collecting langsmith<0.1.0,>=0.0.11 (from langchain)\n",
            "  Downloading langsmith-0.0.14-py3-none-any.whl (29 kB)\n",
            "Requirement already satisfied: numexpr<3.0.0,>=2.8.4 in /usr/local/lib/python3.10/dist-packages (from langchain) (2.8.4)\n",
            "Collecting openapi-schema-pydantic<2.0,>=1.2 (from langchain)\n",
            "  Downloading openapi_schema_pydantic-1.2.4-py3-none-any.whl (90 kB)\n",
            "\u001b[2K     \u001b[90m━━━━━━━━━━━━━━━━━━━━━━━━━━━━━━━━━━━━━━━━\u001b[0m \u001b[32m90.0/90.0 kB\u001b[0m \u001b[31m12.2 MB/s\u001b[0m eta \u001b[36m0:00:00\u001b[0m\n",
            "\u001b[?25hRequirement already satisfied: pydantic<2,>=1 in /usr/local/lib/python3.10/dist-packages (from langchain) (1.10.11)\n",
            "Requirement already satisfied: tenacity<9.0.0,>=8.1.0 in /usr/local/lib/python3.10/dist-packages (from langchain) (8.2.2)\n",
            "Requirement already satisfied: beautifulsoup4 in /usr/local/lib/python3.10/dist-packages (from wikipedia) (4.11.2)\n",
            "Requirement already satisfied: httplib2<1dev,>=0.15.0 in /usr/local/lib/python3.10/dist-packages (from google-api-python-client) (0.21.0)\n",
            "Requirement already satisfied: google-auth<3.0.0dev,>=1.19.0 in /usr/local/lib/python3.10/dist-packages (from google-api-python-client) (2.17.3)\n",
            "Requirement already satisfied: google-auth-httplib2>=0.1.0 in /usr/local/lib/python3.10/dist-packages (from google-api-python-client) (0.1.0)\n",
            "Requirement already satisfied: google-api-core!=2.0.*,!=2.1.*,!=2.2.*,!=2.3.0,<3.0.0dev,>=1.31.5 in /usr/local/lib/python3.10/dist-packages (from google-api-python-client) (2.11.1)\n",
            "Requirement already satisfied: uritemplate<5,>=3.0.1 in /usr/local/lib/python3.10/dist-packages (from google-api-python-client) (4.1.1)\n",
            "Requirement already satisfied: chardet in /usr/local/lib/python3.10/dist-packages (from unstructured) (4.0.0)\n",
            "Collecting filetype (from unstructured)\n",
            "  Downloading filetype-1.2.0-py2.py3-none-any.whl (19 kB)\n",
            "Requirement already satisfied: lxml in /usr/local/lib/python3.10/dist-packages (from unstructured) (4.9.3)\n",
            "Collecting msg-parser (from unstructured)\n",
            "  Downloading msg_parser-1.2.0-py2.py3-none-any.whl (101 kB)\n",
            "\u001b[2K     \u001b[90m━━━━━━━━━━━━━━━━━━━━━━━━━━━━━━━━━━━━━━\u001b[0m \u001b[32m101.8/101.8 kB\u001b[0m \u001b[31m14.1 MB/s\u001b[0m eta \u001b[36m0:00:00\u001b[0m\n",
            "\u001b[?25hRequirement already satisfied: nltk in /usr/local/lib/python3.10/dist-packages (from unstructured) (3.8.1)\n",
            "Requirement already satisfied: openpyxl in /usr/local/lib/python3.10/dist-packages (from unstructured) (3.0.10)\n",
            "Requirement already satisfied: pandas in /usr/local/lib/python3.10/dist-packages (from unstructured) (1.5.3)\n",
            "Collecting pdfminer.six (from unstructured)\n",
            "  Downloading pdfminer.six-20221105-py3-none-any.whl (5.6 MB)\n",
            "\u001b[2K     \u001b[90m━━━━━━━━━━━━━━━━━━━━━━━━━━━━━━━━━━━━━━━━\u001b[0m \u001b[32m5.6/5.6 MB\u001b[0m \u001b[31m54.3 MB/s\u001b[0m eta \u001b[36m0:00:00\u001b[0m\n",
            "\u001b[?25hRequirement already satisfied: pillow in /usr/local/lib/python3.10/dist-packages (from unstructured) (8.4.0)\n",
            "Collecting pypandoc (from unstructured)\n",
            "  Downloading pypandoc-1.11-py3-none-any.whl (20 kB)\n",
            "Collecting python-docx (from unstructured)\n",
            "  Downloading python-docx-0.8.11.tar.gz (5.6 MB)\n",
            "\u001b[2K     \u001b[90m━━━━━━━━━━━━━━━━━━━━━━━━━━━━━━━━━━━━━━━━\u001b[0m \u001b[32m5.6/5.6 MB\u001b[0m \u001b[31m81.8 MB/s\u001b[0m eta \u001b[36m0:00:00\u001b[0m\n",
            "\u001b[?25h  Preparing metadata (setup.py) ... \u001b[?25l\u001b[?25hdone\n",
            "Collecting python-pptx (from unstructured)\n",
            "  Downloading python-pptx-0.6.21.tar.gz (10.1 MB)\n",
            "\u001b[2K     \u001b[90m━━━━━━━━━━━━━━━━━━━━━━━━━━━━━━━━━━━━━━━\u001b[0m \u001b[32m10.1/10.1 MB\u001b[0m \u001b[31m101.6 MB/s\u001b[0m eta \u001b[36m0:00:00\u001b[0m\n",
            "\u001b[?25h  Preparing metadata (setup.py) ... \u001b[?25l\u001b[?25hdone\n",
            "Collecting python-magic (from unstructured)\n",
            "  Downloading python_magic-0.4.27-py2.py3-none-any.whl (13 kB)\n",
            "Requirement already satisfied: markdown in /usr/local/lib/python3.10/dist-packages (from unstructured) (3.4.3)\n",
            "Requirement already satisfied: xlrd in /usr/local/lib/python3.10/dist-packages (from unstructured) (2.0.1)\n",
            "Requirement already satisfied: attrs>=17.3.0 in /usr/local/lib/python3.10/dist-packages (from aiohttp<4.0.0,>=3.8.3->langchain) (23.1.0)\n",
            "Requirement already satisfied: charset-normalizer<4.0,>=2.0 in /usr/local/lib/python3.10/dist-packages (from aiohttp<4.0.0,>=3.8.3->langchain) (2.0.12)\n",
            "Requirement already satisfied: multidict<7.0,>=4.5 in /usr/local/lib/python3.10/dist-packages (from aiohttp<4.0.0,>=3.8.3->langchain) (6.0.4)\n",
            "Requirement already satisfied: yarl<2.0,>=1.0 in /usr/local/lib/python3.10/dist-packages (from aiohttp<4.0.0,>=3.8.3->langchain) (1.9.2)\n",
            "Requirement already satisfied: frozenlist>=1.1.1 in /usr/local/lib/python3.10/dist-packages (from aiohttp<4.0.0,>=3.8.3->langchain) (1.4.0)\n",
            "Requirement already satisfied: aiosignal>=1.1.2 in /usr/local/lib/python3.10/dist-packages (from aiohttp<4.0.0,>=3.8.3->langchain) (1.3.1)\n",
            "Collecting marshmallow<4.0.0,>=3.18.0 (from dataclasses-json<0.6.0,>=0.5.7->langchain)\n",
            "  Downloading marshmallow-3.20.1-py3-none-any.whl (49 kB)\n",
            "\u001b[2K     \u001b[90m━━━━━━━━━━━━━━━━━━━━━━━━━━━━━━━━━━━━━━━━\u001b[0m \u001b[32m49.4/49.4 kB\u001b[0m \u001b[31m6.2 MB/s\u001b[0m eta \u001b[36m0:00:00\u001b[0m\n",
            "\u001b[?25hCollecting typing-inspect<1,>=0.4.0 (from dataclasses-json<0.6.0,>=0.5.7->langchain)\n",
            "  Downloading typing_inspect-0.9.0-py3-none-any.whl (8.8 kB)\n",
            "Collecting httpcore>=0.17.3 (from dnspython>=2.0.0->pinecone-client)\n",
            "  Downloading httpcore-0.17.3-py3-none-any.whl (74 kB)\n",
            "\u001b[2K     \u001b[90m━━━━━━━━━━━━━━━━━━━━━━━━━━━━━━━━━━━━━━━━\u001b[0m \u001b[32m74.5/74.5 kB\u001b[0m \u001b[31m9.4 MB/s\u001b[0m eta \u001b[36m0:00:00\u001b[0m\n",
            "\u001b[?25hRequirement already satisfied: sniffio<2.0,>=1.1 in /usr/local/lib/python3.10/dist-packages (from dnspython>=2.0.0->pinecone-client) (1.3.0)\n",
            "Requirement already satisfied: googleapis-common-protos<2.0.dev0,>=1.56.2 in /usr/local/lib/python3.10/dist-packages (from google-api-core!=2.0.*,!=2.1.*,!=2.2.*,!=2.3.0,<3.0.0dev,>=1.31.5->google-api-python-client) (1.59.1)\n",
            "Requirement already satisfied: protobuf!=3.20.0,!=3.20.1,!=4.21.0,!=4.21.1,!=4.21.2,!=4.21.3,!=4.21.4,!=4.21.5,<5.0.0.dev0,>=3.19.5 in /usr/local/lib/python3.10/dist-packages (from google-api-core!=2.0.*,!=2.1.*,!=2.2.*,!=2.3.0,<3.0.0dev,>=1.31.5->google-api-python-client) (3.20.3)\n",
            "Requirement already satisfied: cachetools<6.0,>=2.0.0 in /usr/local/lib/python3.10/dist-packages (from google-auth<3.0.0dev,>=1.19.0->google-api-python-client) (5.3.1)\n",
            "Requirement already satisfied: pyasn1-modules>=0.2.1 in /usr/local/lib/python3.10/dist-packages (from google-auth<3.0.0dev,>=1.19.0->google-api-python-client) (0.3.0)\n",
            "Requirement already satisfied: six>=1.9.0 in /usr/local/lib/python3.10/dist-packages (from google-auth<3.0.0dev,>=1.19.0->google-api-python-client) (1.16.0)\n",
            "Requirement already satisfied: rsa<5,>=3.1.4 in /usr/local/lib/python3.10/dist-packages (from google-auth<3.0.0dev,>=1.19.0->google-api-python-client) (4.9)\n",
            "Requirement already satisfied: pyparsing!=3.0.0,!=3.0.1,!=3.0.2,!=3.0.3,<4,>=2.4.2 in /usr/local/lib/python3.10/dist-packages (from httplib2<1dev,>=0.15.0->google-api-python-client) (3.1.0)\n",
            "Requirement already satisfied: certifi>=2017.4.17 in /usr/local/lib/python3.10/dist-packages (from requests>=2.19.0->pinecone-client) (2023.5.7)\n",
            "Requirement already satisfied: idna<4,>=2.5 in /usr/local/lib/python3.10/dist-packages (from requests>=2.19.0->pinecone-client) (3.4)\n",
            "Requirement already satisfied: greenlet!=0.4.17 in /usr/local/lib/python3.10/dist-packages (from SQLAlchemy<3,>=1.4->langchain) (2.0.2)\n",
            "Requirement already satisfied: soupsieve>1.2 in /usr/local/lib/python3.10/dist-packages (from beautifulsoup4->wikipedia) (2.4.1)\n",
            "Collecting olefile>=0.46 (from msg-parser->unstructured)\n",
            "  Downloading olefile-0.46.zip (112 kB)\n",
            "\u001b[2K     \u001b[90m━━━━━━━━━━━━━━━━━━━━━━━━━━━━━━━━━━━━━━\u001b[0m \u001b[32m112.2/112.2 kB\u001b[0m \u001b[31m14.6 MB/s\u001b[0m eta \u001b[36m0:00:00\u001b[0m\n",
            "\u001b[?25h  Preparing metadata (setup.py) ... \u001b[?25l\u001b[?25hdone\n",
            "Requirement already satisfied: click in /usr/local/lib/python3.10/dist-packages (from nltk->unstructured) (8.1.6)\n",
            "Requirement already satisfied: joblib in /usr/local/lib/python3.10/dist-packages (from nltk->unstructured) (1.3.1)\n",
            "Requirement already satisfied: regex>=2021.8.3 in /usr/local/lib/python3.10/dist-packages (from nltk->unstructured) (2022.10.31)\n",
            "Requirement already satisfied: et-xmlfile in /usr/local/lib/python3.10/dist-packages (from openpyxl->unstructured) (1.1.0)\n",
            "Requirement already satisfied: pytz>=2020.1 in /usr/local/lib/python3.10/dist-packages (from pandas->unstructured) (2022.7.1)\n",
            "Collecting cryptography>=36.0.0 (from pdfminer.six->unstructured)\n",
            "  Downloading cryptography-41.0.2-cp37-abi3-manylinux_2_28_x86_64.whl (4.3 MB)\n",
            "\u001b[2K     \u001b[90m━━━━━━━━━━━━━━━━━━━━━━━━━━━━━━━━━━━━━━━━\u001b[0m \u001b[32m4.3/4.3 MB\u001b[0m \u001b[31m59.6 MB/s\u001b[0m eta \u001b[36m0:00:00\u001b[0m\n",
            "\u001b[?25hCollecting XlsxWriter>=0.5.7 (from python-pptx->unstructured)\n",
            "  Downloading XlsxWriter-3.1.2-py3-none-any.whl (153 kB)\n",
            "\u001b[2K     \u001b[90m━━━━━━━━━━━━━━━━━━━━━━━━━━━━━━━━━━━━━━\u001b[0m \u001b[32m153.0/153.0 kB\u001b[0m \u001b[31m16.7 MB/s\u001b[0m eta \u001b[36m0:00:00\u001b[0m\n",
            "\u001b[?25hRequirement already satisfied: cffi>=1.12 in /usr/local/lib/python3.10/dist-packages (from cryptography>=36.0.0->pdfminer.six->unstructured) (1.15.1)\n",
            "Collecting h11<0.15,>=0.13 (from httpcore>=0.17.3->dnspython>=2.0.0->pinecone-client)\n",
            "  Downloading h11-0.14.0-py3-none-any.whl (58 kB)\n",
            "\u001b[2K     \u001b[90m━━━━━━━━━━━━━━━━━━━━━━━━━━━━━━━━━━━━━━━━\u001b[0m \u001b[32m58.3/58.3 kB\u001b[0m \u001b[31m6.6 MB/s\u001b[0m eta \u001b[36m0:00:00\u001b[0m\n",
            "\u001b[?25hRequirement already satisfied: anyio<5.0,>=3.0 in /usr/local/lib/python3.10/dist-packages (from httpcore>=0.17.3->dnspython>=2.0.0->pinecone-client) (3.7.1)\n",
            "Requirement already satisfied: packaging>=17.0 in /usr/local/lib/python3.10/dist-packages (from marshmallow<4.0.0,>=3.18.0->dataclasses-json<0.6.0,>=0.5.7->langchain) (23.1)\n",
            "Requirement already satisfied: pyasn1<0.6.0,>=0.4.6 in /usr/local/lib/python3.10/dist-packages (from pyasn1-modules>=0.2.1->google-auth<3.0.0dev,>=1.19.0->google-api-python-client) (0.5.0)\n",
            "Collecting mypy-extensions>=0.3.0 (from typing-inspect<1,>=0.4.0->dataclasses-json<0.6.0,>=0.5.7->langchain)\n",
            "  Downloading mypy_extensions-1.0.0-py3-none-any.whl (4.7 kB)\n",
            "Requirement already satisfied: exceptiongroup in /usr/local/lib/python3.10/dist-packages (from anyio<5.0,>=3.0->httpcore>=0.17.3->dnspython>=2.0.0->pinecone-client) (1.1.2)\n",
            "Requirement already satisfied: pycparser in /usr/local/lib/python3.10/dist-packages (from cffi>=1.12->cryptography>=36.0.0->pdfminer.six->unstructured) (2.21)\n",
            "Building wheels for collected packages: wikipedia, python-docx, python-pptx, olefile\n",
            "  Building wheel for wikipedia (setup.py) ... \u001b[?25l\u001b[?25hdone\n",
            "  Created wheel for wikipedia: filename=wikipedia-1.4.0-py3-none-any.whl size=11680 sha256=144305785edb61e847ccc5f8cfae785c8f47b812472dcb1bbdedf25cc2e95e7c\n",
            "  Stored in directory: /root/.cache/pip/wheels/5e/b6/c5/93f3dec388ae76edc830cb42901bb0232504dfc0df02fc50de\n",
            "  Building wheel for python-docx (setup.py) ... \u001b[?25l\u001b[?25hdone\n",
            "  Created wheel for python-docx: filename=python_docx-0.8.11-py3-none-any.whl size=184491 sha256=c49d4b913db44352186082ed9347755aaf26b2d083e470401b15e14fe43158fe\n",
            "  Stored in directory: /root/.cache/pip/wheels/80/27/06/837436d4c3bd989b957a91679966f207bfd71d358d63a8194d\n",
            "  Building wheel for python-pptx (setup.py) ... \u001b[?25l\u001b[?25hdone\n",
            "  Created wheel for python-pptx: filename=python_pptx-0.6.21-py3-none-any.whl size=470935 sha256=a2d5a3abb0200b94e694cd06d600c6279951550403d1338d57db9938ac797926\n",
            "  Stored in directory: /root/.cache/pip/wheels/ea/dd/74/01b3ec7256a0800b99384e9a0f7620e358afc3a51a59bf9b49\n",
            "  Building wheel for olefile (setup.py) ... \u001b[?25l\u001b[?25hdone\n",
            "  Created wheel for olefile: filename=olefile-0.46-py2.py3-none-any.whl size=35417 sha256=0aa509536548e045db7bc731e170a656631abf3dd9f1a88707d7dac95541b514\n",
            "  Stored in directory: /root/.cache/pip/wheels/02/39/c0/9eb1f7a42b4b38f6f333b6314d4ed11c46f12a0f7b78194f0d\n",
            "Successfully built wikipedia python-docx python-pptx olefile\n",
            "Installing collected packages: filetype, XlsxWriter, python-magic, python-docx, pypandoc, pdf2image, olefile, mypy-extensions, marshmallow, loguru, h11, wikipedia, typing-inspect, python-pptx, openapi-schema-pydantic, msg-parser, langsmith, httpcore, cryptography, pdfminer.six, openai, dnspython, dataclasses-json, unstructured, pinecone-client, langchain\n",
            "  Attempting uninstall: cryptography\n",
            "    Found existing installation: cryptography 3.4.8\n",
            "    Uninstalling cryptography-3.4.8:\n",
            "      Successfully uninstalled cryptography-3.4.8\n",
            "Successfully installed XlsxWriter-3.1.2 cryptography-41.0.2 dataclasses-json-0.5.13 dnspython-2.4.0 filetype-1.2.0 h11-0.14.0 httpcore-0.17.3 langchain-0.0.240 langsmith-0.0.14 loguru-0.7.0 marshmallow-3.20.1 msg-parser-1.2.0 mypy-extensions-1.0.0 olefile-0.46 openai-0.27.8 openapi-schema-pydantic-1.2.4 pdf2image-1.16.3 pdfminer.six-20221105 pinecone-client-2.2.2 pypandoc-1.11 python-docx-0.8.11 python-magic-0.4.27 python-pptx-0.6.21 typing-inspect-0.9.0 unstructured-0.8.1 wikipedia-1.4.0\n"
          ]
        }
      ],
      "source": [
        "!pip install pinecone-client langchain openai wikipedia google-api-python-client unstructured tabulate pdf2image"
      ]
    },
    {
      "cell_type": "code",
      "source": [
        "!pip install openai"
      ],
      "metadata": {
        "colab": {
          "base_uri": "https://localhost:8080/"
        },
        "id": "6TPVHMrn-hKU",
        "outputId": "ab23d41b-5ebb-49f8-b3bc-ba51e60a5a81"
      },
      "execution_count": null,
      "outputs": [
        {
          "output_type": "stream",
          "name": "stdout",
          "text": [
            "Requirement already satisfied: openai in /usr/local/lib/python3.10/dist-packages (0.27.8)\n",
            "Requirement already satisfied: requests>=2.20 in /usr/local/lib/python3.10/dist-packages (from openai) (2.27.1)\n",
            "Requirement already satisfied: tqdm in /usr/local/lib/python3.10/dist-packages (from openai) (4.65.0)\n",
            "Requirement already satisfied: aiohttp in /usr/local/lib/python3.10/dist-packages (from openai) (3.8.4)\n",
            "Requirement already satisfied: urllib3<1.27,>=1.21.1 in /usr/local/lib/python3.10/dist-packages (from requests>=2.20->openai) (1.26.16)\n",
            "Requirement already satisfied: certifi>=2017.4.17 in /usr/local/lib/python3.10/dist-packages (from requests>=2.20->openai) (2023.5.7)\n",
            "Requirement already satisfied: charset-normalizer~=2.0.0 in /usr/local/lib/python3.10/dist-packages (from requests>=2.20->openai) (2.0.12)\n",
            "Requirement already satisfied: idna<4,>=2.5 in /usr/local/lib/python3.10/dist-packages (from requests>=2.20->openai) (3.4)\n",
            "Requirement already satisfied: attrs>=17.3.0 in /usr/local/lib/python3.10/dist-packages (from aiohttp->openai) (23.1.0)\n",
            "Requirement already satisfied: multidict<7.0,>=4.5 in /usr/local/lib/python3.10/dist-packages (from aiohttp->openai) (6.0.4)\n",
            "Requirement already satisfied: async-timeout<5.0,>=4.0.0a3 in /usr/local/lib/python3.10/dist-packages (from aiohttp->openai) (4.0.2)\n",
            "Requirement already satisfied: yarl<2.0,>=1.0 in /usr/local/lib/python3.10/dist-packages (from aiohttp->openai) (1.9.2)\n",
            "Requirement already satisfied: frozenlist>=1.1.1 in /usr/local/lib/python3.10/dist-packages (from aiohttp->openai) (1.4.0)\n",
            "Requirement already satisfied: aiosignal>=1.1.2 in /usr/local/lib/python3.10/dist-packages (from aiohttp->openai) (1.3.1)\n"
          ]
        }
      ]
    },
    {
      "cell_type": "code",
      "source": [
        "!pip install tiktoken"
      ],
      "metadata": {
        "colab": {
          "base_uri": "https://localhost:8080/"
        },
        "id": "44SI2S5TOY6C",
        "outputId": "58b1a1b1-9cea-4633-cdf7-dd57a4e0144d"
      },
      "execution_count": null,
      "outputs": [
        {
          "output_type": "stream",
          "name": "stdout",
          "text": [
            "Collecting tiktoken\n",
            "  Downloading tiktoken-0.4.0-cp310-cp310-manylinux_2_17_x86_64.manylinux2014_x86_64.whl (1.7 MB)\n",
            "\u001b[2K     \u001b[90m━━━━━━━━━━━━━━━━━━━━━━━━━━━━━━━━━━━━━━━━\u001b[0m \u001b[32m1.7/1.7 MB\u001b[0m \u001b[31m10.8 MB/s\u001b[0m eta \u001b[36m0:00:00\u001b[0m\n",
            "\u001b[?25hRequirement already satisfied: regex>=2022.1.18 in /usr/local/lib/python3.10/dist-packages (from tiktoken) (2022.10.31)\n",
            "Requirement already satisfied: requests>=2.26.0 in /usr/local/lib/python3.10/dist-packages (from tiktoken) (2.27.1)\n",
            "Requirement already satisfied: urllib3<1.27,>=1.21.1 in /usr/local/lib/python3.10/dist-packages (from requests>=2.26.0->tiktoken) (1.26.16)\n",
            "Requirement already satisfied: certifi>=2017.4.17 in /usr/local/lib/python3.10/dist-packages (from requests>=2.26.0->tiktoken) (2023.5.7)\n",
            "Requirement already satisfied: charset-normalizer~=2.0.0 in /usr/local/lib/python3.10/dist-packages (from requests>=2.26.0->tiktoken) (2.0.12)\n",
            "Requirement already satisfied: idna<4,>=2.5 in /usr/local/lib/python3.10/dist-packages (from requests>=2.26.0->tiktoken) (3.4)\n",
            "Installing collected packages: tiktoken\n",
            "Successfully installed tiktoken-0.4.0\n"
          ]
        }
      ]
    },
    {
      "cell_type": "code",
      "source": [
        "!pip install faiss-cpu"
      ],
      "metadata": {
        "colab": {
          "base_uri": "https://localhost:8080/"
        },
        "id": "yTgmR9OpOhPA",
        "outputId": "26d4d333-3777-44ed-8bda-995a525c2137"
      },
      "execution_count": null,
      "outputs": [
        {
          "output_type": "stream",
          "name": "stdout",
          "text": [
            "Collecting faiss-cpu\n",
            "  Downloading faiss_cpu-1.7.4-cp310-cp310-manylinux_2_17_x86_64.manylinux2014_x86_64.whl (17.6 MB)\n",
            "\u001b[2K     \u001b[90m━━━━━━━━━━━━━━━━━━━━━━━━━━━━━━━━━━━━━━━━\u001b[0m \u001b[32m17.6/17.6 MB\u001b[0m \u001b[31m64.4 MB/s\u001b[0m eta \u001b[36m0:00:00\u001b[0m\n",
            "\u001b[?25hInstalling collected packages: faiss-cpu\n",
            "Successfully installed faiss-cpu-1.7.4\n"
          ]
        }
      ]
    },
    {
      "cell_type": "markdown",
      "source": [
        "**CHATBOT**"
      ],
      "metadata": {
        "id": "Pup85KCMPE6G"
      }
    },
    {
      "cell_type": "code",
      "source": [
        "import csv\n",
        "import os\n",
        "import openai\n",
        "from langchain.embeddings.openai import OpenAIEmbeddings\n",
        "from langchain.chat_models import ChatOpenAI\n",
        "from langchain.chains import ConversationalRetrievalChain\n",
        "from langchain.vectorstores import FAISS\n",
        "from langchain.vectorstores.base import Document"
      ],
      "metadata": {
        "id": "GLosLFyu_mBj"
      },
      "execution_count": null,
      "outputs": []
    },
    {
      "cell_type": "code",
      "source": [
        "import PyPDF2\n",
        "\n",
        "def read_pdf_into_text(file):\n",
        "    with open(file, 'rb') as pdf_file:\n",
        "        pdf_reader = PyPDF2.PdfReader(pdf_file)\n",
        "        text_data = []\n",
        "        for page in pdf_reader.pages:\n",
        "            text_data.append(page.extract_text())\n",
        "        return text_data"
      ],
      "metadata": {
        "id": "3I00UMuoJekt"
      },
      "execution_count": null,
      "outputs": []
    },
    {
      "cell_type": "code",
      "source": [
        "def read_csv_into_vector_document(file, text_cols):\n",
        "    with open(file, newline='') as csv_file:\n",
        "        csv_reader = csv.DictReader(csv_file)\n",
        "        text_data = []\n",
        "        for row in csv_reader:\n",
        "            text = ' '.join([row[col] for col in text_cols])\n",
        "            text_data.append(text)\n",
        "        return [Document(page_content=text) for text in text_data]\n"
      ],
      "metadata": {
        "id": "1dqLsFaYCpw9"
      },
      "execution_count": null,
      "outputs": []
    },
    {
      "cell_type": "code",
      "source": [
        "data = read_csv_into_vector_document(\"/content/fishfry-locations.csv\", [\"venue_name\", \"venue_type\", \"venue_address\",\"website\",\"menu_url\",\"menu_text\",\"phone\",\"email\",\"alcohol\",\"lunch\"])\n",
        "embeddings = OpenAIEmbeddings(openai_api_key=''\n",
        ")\n",
        "vectors = FAISS.from_documents(data, embeddings)\n",
        "chain = ConversationalRetrievalChain.from_llm(llm=ChatOpenAI(temperature=0.0, model_name='gpt-3.5-turbo', openai_api_key=''\n",
        "), retriever=vectors.as_retriever())\n",
        "history = []\n",
        "\n",
        "print(data)\n",
        "\n",
        "while True:\n",
        "  query = input(\"Enter Your Query:\")\n",
        "  print(chain({\"question\": query, \"chat_history\": history})[\"answer\"])"
      ],
      "metadata": {
        "colab": {
          "base_uri": "https://localhost:8080/",
          "height": 415
        },
        "id": "rG5NUk2qCy0A",
        "outputId": "cd26f37e-6c12-4e88-bd68-082f660de9c9"
      },
      "execution_count": null,
      "outputs": [
        {
          "output_type": "stream",
          "name": "stdout",
          "text": [
            "[Document(page_content='McGinnis Sisters Market 4311 Northern Pike, Monroeville, PA http://www.mcginnis-sisters.com/   412-858-7000   True', metadata={}), Document(page_content='Holy Cross (Reilly Center) Church 7100 West Ridge Road, Fairview PA   Fried pollack, fried shrimp, or combo. Adult $10, Child $5. Includes baked potato, homemade coleslaw, roll, butter, dessert, and beverage. Mac and cheese $5.  814-474-2605   ', metadata={}), Document(page_content='Hartford Heights Volunteer Fire Department Fire Department 14335 U.S. 30, Irwin, PA 15642 https://www.facebook.com/HHVFD/ https://www.facebook.com/photo.php?fbid=1885613354784664&set=gm.2086300038274058&type=3&theater  412-824-9972  True False', metadata={}), Document(page_content='Beaver Valley Yacht Club Community Organization 219 Front Street, New Brighton, Pennsylvania 15066, United States https://www.beavervalleyyachtclub.org/  Menu & Cost:\\nEat in or take out. Adult Fish Dinner (Cod or Perch) $9, Adult Shrimp Dinner $9.25, Adult Chicken Tenders Dinner $8.50, Fish Sandwich (Cod or Perch) $7.25-Senior (60+) and Child pricing available. Dinners incl. 3 sides & roll -- Sandwich incl. 1 side. Sides: Cole Slaw, French Fries, Mac & Cheese. All incl. sales tax and coffee or hot tea. **Cash Only** Cash bar available.\\n (724) 847-4663  True True', metadata={}), Document(page_content=\"Our Lady of Joy, Holiday Park Church 2000 O'Block Road Holiday Park, PA http://www.ourladyofjoy.org  Menu is a la carte, and features fried or baked fish, cole slaw, grilled cheese, haluski, macaroni and cheese, french fries, soft drinks, coffee and variety of desserts. Sandwiches are $7. Free ice cream for children.  412-795-3388   \", metadata={}), Document(page_content='St Alphonsus Wheeling And St John Benwood Combined Fish Fry Church 2111 Market St, Wheeling, WV https://www.facebook.com/StAlphonsusWheelingWV/  Menu consists of fish sandwiches, french fries, macaroni and cheese, cabbage and noodles, cole slaw, deserts, and refreshments. Eat in or take out. 304-905-6589 takeout   True', metadata={}), Document(page_content='St. Mary of the Mount Church - Sullivan Hall Church 131 Bigham, Pittsburgh, PA http://www.smomp.org  Menu features fried and baked fish dinners, shrimp dinner, homemade pierogies, macaroni and cheese, cole slaw, soups and dessert. Costs: $10 adults; $9 seniors; $5 child; $8 sandwich.  412-390-4011   False', metadata={}), Document(page_content='Ancient Order of Hibernians Community Organization 302 Mansfield Avenue Carnegie, Pa. 15106 http://www.aohdivision32.org/  Great fish, haluska, Mac and cheese, shrimp....reasonable prices and alcohol if desired.\\n xxx-xxx-xxxx aohdiv32@gmail.com True False', metadata={}), Document(page_content='Bridgeville Volunteer Fire Department Fire Department 370 Commercial Street, Bridgeville, PA http://www.bridgevillevfd.com/2017fishfrymenu.pdf  see website link xxx-xxx-xxxx  False False', metadata={}), Document(page_content='Christ the Light of the World Church 32 S 1st St, Duquesne, PA 15110 https://www.christthelightoftheworld.org/  Cod Fish Sandwich, Jumbo Shrimp, Mac & Cheese, Waffle Fries, Haluski,  Potato Pancakes, Cole Slaw and Home Made Desserts. 412-466-8960  False True', metadata={}), Document(page_content='Bobtown and Dunkard Twp Volunteer Fire (ADDRESS UNCERTAIN) Fire Department 1 Larimer Ave Bobtown, Pa 15315 https://www.facebook.com/Bobtown-Dunkard-Township-Vol-Fire-Dept-186206404761913/ https://www.facebook.com/186206404761913/photos/a.638412672874615.1073741829.186206404761913/1556094534439753/?type=3&theater see website link for full menu 724-839-7140  False True', metadata={}), Document(page_content='Tower Restaurant Restaurant 680 W Chestnut St Washington, PA 15301    724-222-5952   True', metadata={}), Document(page_content='Manor Volunteer Fire Department Fire Department 40 Main Street, Manor, Pennsylvania 15665, United States http://manorvfd.org/  Dinners:\\n1 Piece Fish Dinner - $8\\n2 Piece Fish Dinner - $10\\n6 Piece Shrimp Dinner - $9\\n9 Piece Shrimp Dinner - $11\\n4 Piece Chicken Dinner - $10\\nDinners Include: 2 Sides, Dinner Roll, Butter, Beverage and Dessert\\nPlatter:\\nFish Sandwich Platter - $10\\nPlatter Includes: 2 Pieces of Fish in a Big Bun, 1 Side, Beverage and Dessert\\nKids Meal:\\nKids Meal - $5\\nKids Meal Includes: A choice of a Hotdog, Hamburger, Cheeseburger, Chicken (2 Pieces)\\nOr Fish (1 Piece), Plus 1 Side, a Beverage and Dessert\\nAl a Carte:\\n1 Piece of Fish - $3\\n3 Pieces of Shrimp - $2\\n2 Pieces of Chicken - $2\\nSides -$1\\nFish Sandwich - $6\\nBeverage - $1\\nDessert - $2\\n (724) 863-5610   False', metadata={}), Document(page_content='St. Peter, Northside Church 907 Middle St, Pittsburgh, PA 15212 http://www.stpeterparish.org http://www.stpeterparish.org/ Menu: baked or fried cod; salmon; crab cakes; macaroni and cheese or cabbage and noodles, stewed tomatoes or vegetable of the day; french fries; cole slaw or pickled beets. Also, roll and butter, coffee or tea. Cost is $10 for dinner, $6 for sandwiches.  412-321-2499  False False', metadata={}), Document(page_content='St. Patrick, Canonsburg Church  317 W Pike St, Canonsburg, PA 15317 www.stpatrickparish.net  Lunch menu features hand-breaded cod sandwich in adult and child size, soup and sides. Delivery is available for lunch within seven miles with minimum order of $30. Dinner entrees include hand-breaded baked or fried cod, shrimp and seafood platter, with two sides, roll and butter, dessert and beverage. Sides include hush puppies, haluski, macaroni and cheese, cole slaw, applesauce and stewed tomatoes. Also featuring homemade desserts. Homemade pierogies for sale, cooked with butter and onions, or dozen frozen. 724-745-6560   True', metadata={}), Document(page_content='All Saints Church 11264 Route 97 North, Waterford PA   Baked or fried white fish. Adult $9, Child 12 and under $4, Toddlers free. Includes choice of baked potato and french fries, coleslaw/applesauce, homemade desserts, and drink. 814-796-3023   False', metadata={}), Document(page_content='Doublewide Grill (Mars/Cranberry) Resturant 100 Adams Shoppes, Cranberry, PA    xxx-xxx-xxxx   ', metadata={}), Document(page_content='St. Malachy, Kennedy Township Church 343 Forest Grove Road Kennedy Township, PA www.stmalachypgh.org http://www.stmalachypgh.org/FISH%20FRY%202018%20MENU.pdf Menu features 1-pound fish sandwich, baked fish, tuna salad sandwich, crab cake sandwich, shrimp, pierogies, macaroni and cheese, cabbage and noodles, cole slaw, french fries.  412-771-0848  False True', metadata={}), Document(page_content='Hogfathers Washington Crown Center Restaurant 1500 West Chestnut Street, Washington, PA 15301 hogfathersbbq.com   724-222-9227  True True', metadata={}), Document(page_content='Our Lady of the Valley, Donora Church 1 Park Manor Rd. Donora, PA   Dinner entrees: baked or fried \"monster\" fish; breaded jumbo shrimp; crab cakes. Dinners are $12.75, and include entree, choice of french fries or pierogies, cole slaw, dessert and beverage (for dine-in customers). Also, \"monster\" baked or fried fish sandwich, with cole slaw is $9.75, and shrimp in a basket (five) with cole slaw is $9.75. A la carte menu includes french fries, pierogies, pasta fagioli with bread, cole slaw, dessert, buns and beverages.  724-379-7559  False True', metadata={}), Document(page_content='Centerville American Legion Post 705 Community Organization 1101 Old National Pike Fredericktown PA 15333 https://www.facebook.com/CALPost705/ https://www.facebook.com/CALPost705/photos/a.578206219030287.1073741828.334499336734311/602404116610497/?type=3&theater  724-632-9591   False', metadata={}), Document(page_content='Pizzarita Restaurant 580 Burchfield Rd., Allison Park, PA http://pizzaritapgh.com/      True', metadata={}), Document(page_content='St Gregory Russian Orthodox Church Church 214 E. 15th Ave, Homestead, PA 15120 http://www.stgregoryrussianchurch.org/ http://www.stgregoryrussianchurch.org/fish-fry-english/  412-462-8256  False True', metadata={}), Document(page_content=\"Coy's Store & Pizza Shop Unsure / N/A 11919 U.S. 422 Penn Run, PA 15765 http://coyspizza.com/ http://coyspizza.com/our-menu/  724-463-9449   True\", metadata={}), Document(page_content=\"Riley's Pour House Restaurant 215 East Main Street, Carnegie, Pennsylvania 15106, United States http://www.rileyspourhouse.com/   412.279.0770  True True\", metadata={}), Document(page_content='Fairmont-Hahntown VFD Fire Department 890 Rose St, Irwin, PA 15642    xxx-xxx-xxxx   ', metadata={}), Document(page_content='Larimer VFD Fire Department 1340 Brownstown Rd., Larimer, PA    xxx-xxx-xxxx   ', metadata={}), Document(page_content='St. Agnes/Holy Trinity Church Holy Trinity Church Social Hall, 529 Grant Avenue Ext West Mifflin, PA 15122-3830 stagneswm.com  Fried and baked fish dinners and sandwiches, shrimp and crab cake dinners; pierogies; haluski; homemade soups of the day. Takeout available; call 412-466-9695.  False True', metadata={}), Document(page_content='Holy Spirit (West Mifflin) Church 2603 Old Elizabeth Road, West Mifflin, Pa 15122 https://facebook.com/holyspiritchurch/   412-346-0477 19201@diopitt.org  ', metadata={}), Document(page_content='Our Lady of the Miraculous Medal, Meadow Lands Church 300 Pike St, Meadow Lands, PA http://miraculousmedalchurch.org/ http://miraculousmedalchurch.org/CCD-Events-Hall/Fish-Fry Menu features Panko breaded cod, deep-fried in heart healthy tri-fry oil that is cholesterol- and trans fat-free. Other healthier options include baked cod or salmon, Maine lobster rolls and tuna melts. Also featuring homemade crab cakes, jumbo shrimp, and cabbage and noodles. Back by popular demand is seafood pizza. Side orders include green beans, baked potatoes, french fries, cole slaw, and macaroni and cheese. Featuring breads from Breadworks and homemade desserts. 724-228-8575   True', metadata={}), Document(page_content='St. Therese of Lisieux, Munhall Church 3 Saint Therese Court, Homestead, Pennsylvania 15120, United States http://www.st-therese.net/  Menu includes fried and baked fish, shrimp, homemade crab cakes, soup and more. 412-462-8164   False', metadata={}), Document(page_content='Hanover Volunteer Fire Department Fish Fry Fire Department 9 Starck Drive, Burgettstown, PA 15021 hanovervfd45.com  Fish Dinner with Cole Slaw and One Side - $12.00\\nShrimp Dinner with Cole Slaw and One Side - $12.00\\nFish Sandwich - $10.00\\nShrimp Basket - $10.00\\nChicken Sandwich - $5.00\\nMac and Cheese - $3.00\\nHaluski - $3.00\\nFrench Fries - $3.00\\nPierogies (4) - $3.00\\nCole Slaw - $3.00\\nDrinks - $1.00 724-729-3929  False True', metadata={}), Document(page_content='St Elizabeth Ann Seton, Carnegie Church 330 3rd Ave, Carnegie, PA 15106   Dinner menu: fish trio (fried fish, shrimp, crab cake), baked or fried fish, jumbo shrimp, crab cakes (served with fries, cole slaw, roll and butter); macaroni and cheese with stewed tomatoes; pierogies (served with cole slaw, roll and butter); fish Parmesan (served with pasta marinara, and roll and butter). A la carte menu: baked and fried fish sandwich, crab cakes, popcorn shrimp, pierogies, french fries, pasta marinara, haluski, macaroni and cheese, stewed tomatoes, applesauce, cole slaw, clam chowder, potato soup. Also featuring homemade desserts and other treats.  412-276-1011 ext 220   True', metadata={}), Document(page_content='Geeseytown Community Fire Company Fire Department 215 Mary Street, Hollidaysburg, Pennsylvania 16648, United States https://www.facebook.com/Geeseytown-Community-Fire-Company-1531587100412091/   (814) 695-8003   False', metadata={}), Document(page_content='ASH WEDNESDAY AND GOOD FRIDAY ONLY Prince of Peace, South Side  Church 81 S. 13th St. Pittsburgh, PA http://www.princeofpeacepittsburgh.org/  Menu: fish (baked or fried) or crab cake, with applesauce or cole slaw, two sides, dessert, coffee or tea, $9; fish (baked or fried) or crab cake sandwich, with applesauce or cole slaw, $6. Pierogies are three for $2.50, or $7 per dozen (frozen).  412-481-8380   ', metadata={}), Document(page_content='Transfiguration/St. Victor, Bairdford Church 527 Bairdford Road Bairdford, PA http://www.stvictors.org/ https://uploads.weconnect.com/mce/a4c36ded9dbf60a5a9dceb0d0a1e3b17ac92f8cf/2017%20FF%20Menu.pdf  724-265-4017   True', metadata={}), Document(page_content='Connellsville Twp. VFD Fire Department 905 Fireman Street, Connellsville, Pennsylvania 15425, United States  https://www.facebook.com/564084873610128/photos/a.666221240063157.1073741827.564084873610128/1799858140032789/?type=3&theater  724-628-0900   True', metadata={}), Document(page_content='Assumption Church 45 North Sprague Avenue, Bellevue, PA 15202 https://www.assumptionchurch.org/  Menu features hand-breaded fish and cole slaw made from scratch. Traditional Eastern European sides offered, with homemade desserts available. Also, low-carb dinner available. Cost is $11 for adults, $3 for child and $8 for sandwich, with various a la carte items sold.  412-766-9727  False False', metadata={}), Document(page_content='St. Fidelis, Butler Church 125 Buttercup Road, Butler, Pennsylvania 16001, United States   Dinner menu, choice of deep-fried or baked fish, scalloped potatoes or french fries, green beans, cole slaw, bread and butter, beverage and dessert. Cost: $10 adults, $5 children age 10 and under, free for child under 2. All takeout is $10.     False', metadata={}), Document(page_content='Penn Hills Bar and Grill Restaurant 11507 Frankstown Road, Pittsburgh, Pennsylvania 15235, United States    (412) 241-2218   ', metadata={}), Document(page_content=\"Rene's Restaurant 1030 Fifth Avenue East McKeesport, PA http://www.renesrestaurant.net/  Full Lenten menu, including 1-lb fish sandwich 412-823-9544  True True\", metadata={}), Document(page_content='Hills Restaurant Restaurant 107 Main St, New Eagle, PA 15067 https://www.facebook.com/Hills-Restaurant-117576318259711/   724-258-5422   True', metadata={}), Document(page_content='St. Luke Church 421 East 38th Street. Erie PA http://www.slserie.org/  Fish Dinner - 10. Captains Platter - 12 Shrimp Basket - 7 814-825-7105  False False', metadata={}), Document(page_content='Hookstown Volunteer Fire Department Fire Department 102 Silver Slipper Rd Hookstown, Pennsylvania    xxx-xxx-xxxx   ', metadata={}), Document(page_content='St. Philip- Ascension Worship Site Church 114 Berry St., Pittsburgh, PA   fish sandwich; fish sandwich dinner; baked fish dinner; jumbo shrimp dinner; homemade crab cake dinner; seafood dinner; macaroni and cheese; green beans; grilled cheese; salad; soup; haluski; desserts; beverages.    False', metadata={}), Document(page_content='Most Holy Name Church 1515 Tinsbury Street, Pittsburgh, PA https://www.mostholynameofjesusparish15212.org/  Dinner menu, $10: fried or baked cod; crab cakes (two); breaded jumbo shrimp (six). Dinners come with choice of two sides (french fries, homemade macaroni and cheese, homemade cole slaw, applesauce, stewed tomatoes), homemade dessert, beverage (for dine-in only). A la carte menu and takeout available    False', metadata={}), Document(page_content='Adamsburg VFD Fire Department 495 Edna Rd, Adamsburg, Pennsylvania 15611 https://www.facebook.com/AdamsburgVfd  See their Facebook page (https://www.facebook.com/AdamsburgVfd) for the complete menu. 724-527-2180  False True', metadata={}), Document(page_content='St. Mary Orthodox Church Church 105 S. 19th St. Pittsburgh, PA 15203 http://www.stmaryorthodoxchurch.net/  Fish Sandwich - $6.00\\nChoice of fries, cole slaw, or applesauce\\nShrimp - $7.00\\nChoice of fries, cole slaw, or applesauce\\nBaked Fish - $6.00\\nGreek Salad - $5.00\\nCrab Cake - $5.00\\n3 Pierogi - $3.00\\nHalushki - $3.00\\nMac & Cheese - $3.00\\nPop or Water - $1.00\\nVarious deserts\\n 412-431-6428  False True', metadata={}), Document(page_content=\"S&D Polish Deli Restaurant 2204 Penn Avenue, Pittsburgh, Pennsylvania 15222, United States http://sdpolishdeli.com/sdpolishdeli/ https://www.facebook.com/sdpolishdelipittsburgh/photos/rpp.544254162312994/1801789979892733/?type=3&theater All platters come with coleslaw and haluszki or 3 pierogi or mac 'n cheese\\nBaked Fish Platter - $12\\nFried Fish Platter - $12\\nMeatless Stuffed Cabbage Platter - $12\\nPotato Pancake Platter - $12\\n\\nA la carte\\nFried Fish Sandwich - $8\\nMushroom Stuffed Cabbage - $4\\n4 Pierogi - $5\\n12 Pierogi - $11\\nHaluszki - $6 Large, $3 Small\\nMac 'n Cheese - $5 Large, $3 Small\\n2 Potato Pancakes - $5\\nColeslaw - $5 large, $3 small\\nSoup of the Day - $4\\nDessert of the Day - $5\\n 412-281-2906  False True\", metadata={})]\n"
          ]
        },
        {
          "output_type": "error",
          "ename": "KeyboardInterrupt",
          "evalue": "ignored",
          "traceback": [
            "\u001b[0;31m---------------------------------------------------------------------------\u001b[0m",
            "\u001b[0;31mKeyboardInterrupt\u001b[0m                         Traceback (most recent call last)",
            "\u001b[0;32m<ipython-input-8-b8656951a9bd>\u001b[0m in \u001b[0;36m<cell line: 11>\u001b[0;34m()\u001b[0m\n\u001b[1;32m     10\u001b[0m \u001b[0;34m\u001b[0m\u001b[0m\n\u001b[1;32m     11\u001b[0m \u001b[0;32mwhile\u001b[0m \u001b[0;32mTrue\u001b[0m\u001b[0;34m:\u001b[0m\u001b[0;34m\u001b[0m\u001b[0;34m\u001b[0m\u001b[0m\n\u001b[0;32m---> 12\u001b[0;31m   \u001b[0mquery\u001b[0m \u001b[0;34m=\u001b[0m \u001b[0minput\u001b[0m\u001b[0;34m(\u001b[0m\u001b[0;34m\"Enter Your Query:\"\u001b[0m\u001b[0;34m)\u001b[0m\u001b[0;34m\u001b[0m\u001b[0;34m\u001b[0m\u001b[0m\n\u001b[0m\u001b[1;32m     13\u001b[0m   \u001b[0mprint\u001b[0m\u001b[0;34m(\u001b[0m\u001b[0mchain\u001b[0m\u001b[0;34m(\u001b[0m\u001b[0;34m{\u001b[0m\u001b[0;34m\"question\"\u001b[0m\u001b[0;34m:\u001b[0m \u001b[0mquery\u001b[0m\u001b[0;34m,\u001b[0m \u001b[0;34m\"chat_history\"\u001b[0m\u001b[0;34m:\u001b[0m \u001b[0mhistory\u001b[0m\u001b[0;34m}\u001b[0m\u001b[0;34m)\u001b[0m\u001b[0;34m[\u001b[0m\u001b[0;34m\"answer\"\u001b[0m\u001b[0;34m]\u001b[0m\u001b[0;34m)\u001b[0m\u001b[0;34m\u001b[0m\u001b[0;34m\u001b[0m\u001b[0m\n",
            "\u001b[0;32m/usr/local/lib/python3.10/dist-packages/ipykernel/kernelbase.py\u001b[0m in \u001b[0;36mraw_input\u001b[0;34m(self, prompt)\u001b[0m\n\u001b[1;32m    849\u001b[0m                 \u001b[0;34m\"raw_input was called, but this frontend does not support input requests.\"\u001b[0m\u001b[0;34m\u001b[0m\u001b[0;34m\u001b[0m\u001b[0m\n\u001b[1;32m    850\u001b[0m             )\n\u001b[0;32m--> 851\u001b[0;31m         return self._input_request(str(prompt),\n\u001b[0m\u001b[1;32m    852\u001b[0m             \u001b[0mself\u001b[0m\u001b[0;34m.\u001b[0m\u001b[0m_parent_ident\u001b[0m\u001b[0;34m,\u001b[0m\u001b[0;34m\u001b[0m\u001b[0;34m\u001b[0m\u001b[0m\n\u001b[1;32m    853\u001b[0m             \u001b[0mself\u001b[0m\u001b[0;34m.\u001b[0m\u001b[0m_parent_header\u001b[0m\u001b[0;34m,\u001b[0m\u001b[0;34m\u001b[0m\u001b[0;34m\u001b[0m\u001b[0m\n",
            "\u001b[0;32m/usr/local/lib/python3.10/dist-packages/ipykernel/kernelbase.py\u001b[0m in \u001b[0;36m_input_request\u001b[0;34m(self, prompt, ident, parent, password)\u001b[0m\n\u001b[1;32m    893\u001b[0m             \u001b[0;32mexcept\u001b[0m \u001b[0mKeyboardInterrupt\u001b[0m\u001b[0;34m:\u001b[0m\u001b[0;34m\u001b[0m\u001b[0;34m\u001b[0m\u001b[0m\n\u001b[1;32m    894\u001b[0m                 \u001b[0;31m# re-raise KeyboardInterrupt, to truncate traceback\u001b[0m\u001b[0;34m\u001b[0m\u001b[0;34m\u001b[0m\u001b[0m\n\u001b[0;32m--> 895\u001b[0;31m                 \u001b[0;32mraise\u001b[0m \u001b[0mKeyboardInterrupt\u001b[0m\u001b[0;34m(\u001b[0m\u001b[0;34m\"Interrupted by user\"\u001b[0m\u001b[0;34m)\u001b[0m \u001b[0;32mfrom\u001b[0m \u001b[0;32mNone\u001b[0m\u001b[0;34m\u001b[0m\u001b[0;34m\u001b[0m\u001b[0m\n\u001b[0m\u001b[1;32m    896\u001b[0m             \u001b[0;32mexcept\u001b[0m \u001b[0mException\u001b[0m \u001b[0;32mas\u001b[0m \u001b[0me\u001b[0m\u001b[0;34m:\u001b[0m\u001b[0;34m\u001b[0m\u001b[0;34m\u001b[0m\u001b[0m\n\u001b[1;32m    897\u001b[0m                 \u001b[0mself\u001b[0m\u001b[0;34m.\u001b[0m\u001b[0mlog\u001b[0m\u001b[0;34m.\u001b[0m\u001b[0mwarning\u001b[0m\u001b[0;34m(\u001b[0m\u001b[0;34m\"Invalid Message:\"\u001b[0m\u001b[0;34m,\u001b[0m \u001b[0mexc_info\u001b[0m\u001b[0;34m=\u001b[0m\u001b[0;32mTrue\u001b[0m\u001b[0;34m)\u001b[0m\u001b[0;34m\u001b[0m\u001b[0;34m\u001b[0m\u001b[0m\n",
            "\u001b[0;31mKeyboardInterrupt\u001b[0m: Interrupted by user"
          ]
        }
      ]
    }
  ]
}